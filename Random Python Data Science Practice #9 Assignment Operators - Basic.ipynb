{
 "cells": [
  {
   "cell_type": "markdown",
   "metadata": {},
   "source": [
    "# Random Python Data Science Practice #9"
   ]
  },
  {
   "cell_type": "markdown",
   "metadata": {},
   "source": [
    "## Assignment Operators"
   ]
  },
  {
   "cell_type": "code",
   "execution_count": 16,
   "metadata": {},
   "outputs": [],
   "source": [
    "# Several Assignment Operators\n",
    "a = 3 # --> integer\n",
    "b = 2 # --> integer "
   ]
  },
  {
   "cell_type": "markdown",
   "metadata": {},
   "source": [
    "## +="
   ]
  },
  {
   "cell_type": "code",
   "execution_count": 19,
   "metadata": {},
   "outputs": [
    {
     "name": "stdout",
     "output_type": "stream",
     "text": [
      "a plus b = 5\n"
     ]
    }
   ],
   "source": [
    "a = 3 # --> integer\n",
    "b = 2 # --> integer \n",
    "a += b # a equal to a plus b\n",
    "print('a plus b =', a) # --> Result a plus b"
   ]
  },
  {
   "cell_type": "markdown",
   "metadata": {},
   "source": [
    "## -="
   ]
  },
  {
   "cell_type": "code",
   "execution_count": 21,
   "metadata": {},
   "outputs": [
    {
     "name": "stdout",
     "output_type": "stream",
     "text": [
      "a minus b = 1\n"
     ]
    }
   ],
   "source": [
    "a = 3 # --> integer\n",
    "b = 2 # --> integer \n",
    "a -= b # a equal to a minus b\n",
    "print('a minus b =', a) # --> Result a minus b"
   ]
  },
  {
   "cell_type": "markdown",
   "metadata": {},
   "source": [
    "## *="
   ]
  },
  {
   "cell_type": "code",
   "execution_count": 22,
   "metadata": {},
   "outputs": [
    {
     "name": "stdout",
     "output_type": "stream",
     "text": [
      "a multiply b = 6\n"
     ]
    }
   ],
   "source": [
    "a = 3 # --> integer\n",
    "b = 2 # --> integer \n",
    "a *= b # a equal to a multiply b\n",
    "print('a multiply b =', a) # --> Result a multiply b"
   ]
  },
  {
   "cell_type": "markdown",
   "metadata": {},
   "source": [
    "## /="
   ]
  },
  {
   "cell_type": "code",
   "execution_count": 23,
   "metadata": {},
   "outputs": [
    {
     "name": "stdout",
     "output_type": "stream",
     "text": [
      "a divided b = 1.5\n"
     ]
    }
   ],
   "source": [
    "a = 3 # --> integer\n",
    "b = 2 # --> integer \n",
    "a /= b # a equal to a divided b\n",
    "print('a divided b =', a) # --> Result a divided b"
   ]
  }
 ],
 "metadata": {
  "kernelspec": {
   "display_name": "Python 3",
   "language": "python",
   "name": "python3"
  },
  "language_info": {
   "codemirror_mode": {
    "name": "ipython",
    "version": 3
   },
   "file_extension": ".py",
   "mimetype": "text/x-python",
   "name": "python",
   "nbconvert_exporter": "python",
   "pygments_lexer": "ipython3",
   "version": "3.8.5"
  }
 },
 "nbformat": 4,
 "nbformat_minor": 4
}
